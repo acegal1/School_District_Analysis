{
 "cells": [
  {
   "cell_type": "code",
   "execution_count": 12,
   "id": "476fc953",
   "metadata": {
    "scrolled": true
   },
   "outputs": [
    {
     "data": {
      "text/plain": [
       "Student ID        int64\n",
       "student_name     object\n",
       "gender           object\n",
       "grade            object\n",
       "school_name      object\n",
       "reading_score     int64\n",
       "math_score        int64\n",
       "dtype: object"
      ]
     },
     "execution_count": 12,
     "metadata": {},
     "output_type": "execute_result"
    }
   ],
   "source": [
    "# Add the Pandas dependency\n",
    "import pandas as pd\n",
    "\n",
    "#files to load Make sure you are in the correct file area\n",
    "#school_data_to_load =\"Resources/schools_complete.csv\"\n",
    "#student_data_to_load =\"Resources/students_complete.csv\"\n",
    "#instead used the indirect path method\n",
    "\n",
    "import os\n",
    "\n",
    "#files to load\n",
    "school_data_to_load = os.path.join(\"Resources\", \"schools_complete.csv\")\n",
    "student_data_to_load = os.path.join(\"Resources\", \"students_complete.csv\")\n",
    "\n",
    "#Read the SCHOOL data file and store it in a Pandas DataFrame\n",
    "school_data_df = pd.read_csv(school_data_to_load)\n",
    "\n",
    "#school_data_df\n",
    "#         df.head() loads 5 rows  df.tail() loads last 5 rows (insert # if you need more) (10) gives 10 rows\n",
    "#school_data_df.head()\n",
    "\n",
    "#Read the STUDENT file and store it in a Pandas DataFrame\n",
    "student_data_df = pd.read_csv(student_data_to_load)\n",
    "\n",
    "#student_data_df.tail(10)\n",
    "\n",
    "# count Determine if there are any missing values in the school data. Default \"null\" values not counted\n",
    "school_data_df.count()\n",
    "\n",
    "# count Determine if there are any missing values in the student data.\n",
    "student_data_df.count()\n",
    "\n",
    "# Determine if there are any missing values in the school data.\n",
    "school_data_df.isnull()\n",
    "# Determine if there are any missing values in the student data. added chain .sum()\n",
    "student_data_df.isnull().sum()\n",
    "\n",
    "#Determine if there are not any missing values in the school data.  added chain .sum()\n",
    "school_data_df.notnull().sum()\n",
    "student_data_df.notnull().sum()\n",
    "\n",
    "# Determine if there are any missing values in the school data.\n",
    "school_data_df.isnull()\n",
    "# Determine if there are any missing values in the student data.\n",
    "student_data_df.isnull()\n",
    "#Chaining 2 functions that are separated by a period - shows 0 rows are empty\n",
    "student_data_df.isnull().sum()\n",
    "\n",
    "# Determine if there are not any missing values in the school data. True rows not empty or False EMPTY\n",
    "school_data_df.notnull()\n",
    "\n",
    "#Chaining 2 functions that are separated by a period to determine missing values in student data\n",
    "student_data_df.notnull().sum()\n",
    "\n",
    "# Determine data types for the school DataFrame.\n",
    "school_data_df.dtypes\n",
    "\n",
    "# Determine attribute on a single column. try budget.  No space but if you had a space in name must use [\"\"]\n",
    "school_data_df.budget.dtype\n",
    "school_data_df[\"budget\"].dtype\n",
    "\n",
    "# Determine data types for the student DataFrame.\n",
    "student_data_df.dtypes"
   ]
  },
  {
   "cell_type": "code",
   "execution_count": null,
   "id": "87f4eb98",
   "metadata": {},
   "outputs": [],
   "source": []
  }
 ],
 "metadata": {
  "kernelspec": {
   "display_name": "PythonData",
   "language": "python",
   "name": "pythondata"
  },
  "language_info": {
   "codemirror_mode": {
    "name": "ipython",
    "version": 3
   },
   "file_extension": ".py",
   "mimetype": "text/x-python",
   "name": "python",
   "nbconvert_exporter": "python",
   "pygments_lexer": "ipython3",
   "version": "3.9.12"
  }
 },
 "nbformat": 4,
 "nbformat_minor": 5
}
